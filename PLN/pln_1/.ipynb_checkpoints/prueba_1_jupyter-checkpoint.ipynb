{
 "cells": [
  {
   "cell_type": "code",
   "execution_count": null,
   "id": "eff7e515-f44d-4925-9387-f7bc9fc4b3c4",
   "metadata": {},
   "outputs": [],
   "source": [
    "EMILIO FRAUSTO ORTIZ"
   ]
  },
  {
   "cell_type": "code",
   "execution_count": 3,
   "id": "f83e3543-67ff-4672-9632-7d230af4013c",
   "metadata": {},
   "outputs": [
    {
     "name": "stdout",
     "output_type": "stream",
     "text": [
      "showing info https://raw.githubusercontent.com/nltk/nltk_data/gh-pages/index.xml\n"
     ]
    },
    {
     "data": {
      "text/plain": [
       "nltk.text.Text"
      ]
     },
     "execution_count": 3,
     "metadata": {},
     "output_type": "execute_result"
    }
   ],
   "source": [
    "import nltk\n",
    "#nltk.download()\n",
    "\n",
    "from nltk.book import *\n",
    "'''\n",
    "print(text1)\n",
    "\n",
    "print(text1[-20:])\n",
    "\n",
    "print(nltk.data.path)\n",
    "\n",
    "print(len(set(text3))) #palabras unicas\n",
    "'''\n",
    "\n",
    "\n",
    "'''print(text4[-20:])'''\n",
    "\n",
    "type(text4)\n"
   ]
  },
  {
   "cell_type": "code",
   "execution_count": 11,
   "id": "edad0f3e-6c16-4e48-bd5f-8478a7ffd0a8",
   "metadata": {},
   "outputs": [
    {
     "data": {
      "image/png": "[encoded data removed]",
      "text/plain": [
       "<Figure size 640x480 with 1 Axes>"
      ]
     },
     "metadata": {},
     "output_type": "display_data"
    }
   ],
   "source": [
    "text4.dispersion_plot([\"citizens\",\"slaves\",\"China\",\"Korea\",\"Vietnam\"])"
   ]
  },
  {
   "cell_type": "code",
   "execution_count": 8,
   "id": "19840902-9651-45c0-a4ff-7db306314973",
   "metadata": {},
   "outputs": [],
   "source": [
    "#\"\".join(text4).lower()"
   ]
  },
  {
   "cell_type": "code",
   "execution_count": 12,
   "id": "dc305215-9ff1-4bba-b060-d6a1091a3ae4",
   "metadata": {},
   "outputs": [
    {
     "name": "stdout",
     "output_type": "stream",
     "text": [
      "United States; fellow citizens; years ago; four years; Federal\n",
      "Government; General Government; Vice President; American people; God\n",
      "bless; Chief Justice; one another; fellow Americans; Old World;\n",
      "Almighty God; Fellow citizens; Chief Magistrate; every citizen; Indian\n",
      "tribes; public debt; foreign nations\n"
     ]
    }
   ],
   "source": [
    "text4.collocations()"
   ]
  },
  {
   "cell_type": "markdown",
   "id": "07c7706b-1132-45a1-9f19-b399f093e649",
   "metadata": {},
   "source": [
    "## TOKENIZACION\n",
    "Un token puede ser un caracter, una secuencia de caracteres, por ejemplo n-gramas"
   ]
  },
  {
   "cell_type": "code",
   "execution_count": null,
   "id": "1a503bc3-97b9-49ca-b11f-43178424a722",
   "metadata": {},
   "outputs": [],
   "source": [
    "# 3_eramas caracter: \"La-\", \"a-U\" , \"-Un\"\n",
    "# 3_eramas palabras: \"La-Universidad-Iberoamericana\""
   ]
  },
  {
   "cell_type": "code",
   "execution_count": 13,
   "id": "62075511-b1ec-47da-9554-a11ce84fce14",
   "metadata": {},
   "outputs": [],
   "source": [
    "import nltk\n",
    "\n",
    "oracion = \"La Universidad Iberoamericana León es una universidad privada confiada a la Compañía de Jesús, ubicada en la ciudad de León, Guanajuato. Pertenece al Sistema Universitario Jesuita y a la AUSJAL. Fue fundada en 1978 para extender los servicios educativos de la Ibero a la región del Bajío, siendo así el primer campus al interior de la República.\"\n",
    "\n",
    "tokens = nltk.word_tokenize(oracion)"
   ]
  },
  {
   "cell_type": "code",
   "execution_count": 14,
   "id": "3c255dd8-7106-46d8-9a12-adf44ac3a116",
   "metadata": {},
   "outputs": [
    {
     "name": "stdout",
     "output_type": "stream",
     "text": [
      "['La', 'Universidad', 'Iberoamericana', 'León', 'es', 'una', 'universidad', 'privada', 'confiada', 'a', 'la', 'Compañía', 'de', 'Jesús', ',', 'ubicada', 'en', 'la', 'ciudad', 'de', 'León', ',', 'Guanajuato', '.', 'Pertenece', 'al', 'Sistema', 'Universitario', 'Jesuita', 'y', 'a', 'la', 'AUSJAL', '.', 'Fue', 'fundada', 'en', '1978', 'para', 'extender', 'los', 'servicios', 'educativos', 'de', 'la', 'Ibero', 'a', 'la', 'región', 'del', 'Bajío', ',', 'siendo', 'así', 'el', 'primer', 'campus', 'al', 'interior', 'de', 'la', 'República', '.']\n"
     ]
    }
   ],
   "source": [
    "print(tokens)"
   ]
  },
  {
   "cell_type": "code",
   "execution_count": 16,
   "id": "c9ea7c54-fe8f-41f4-824f-2f0878ccf51c",
   "metadata": {},
   "outputs": [],
   "source": [
    "import nltk\n",
    "\n",
    "oracion = \"En 1978 se funda la Universidad Iberoamericana Unidad León (que más tarde pasaría a llamarse Plantel León) para extender los servicios educativos de la UIA al estado de Guanajuato y la región del Bajío. En el año de 1980 se logró la obtención por donativo del terreno de 10 hectáreas donde se ubica actualmente el campus. En 1983 se inicia la construcción de la sede actual de la Universidad Iberoamericana León. Siendo su primer Director el Físico Alfonso Carlos González Quevedo Bruzón, arrancando el proceso de consolidación del Sistema Educativo Universidad Iberoamericana, las Unidades pasan a llamarse Planteles. En 1985 se hace el nombramiento del primer rector de la Ibero León, el Lic. Jorge Vértiz Campero, S.J. Ese mismo año se realiza la inauguración de la sede definitiva de la Ibero León. En 1987 se terminó la construcción del primer edificio del campus actual. Además, ese mismo año la Ibero se convierte en sede del Comité Local León de AIESEC. En 1993 se realizó la inauguración de los edificios de Aula Magna San Ignacio y Centro de Información Académica Jorge Vértiz Campero, S.J. En 2002, se inicia la construcción del Edificio de Talleres de Arte y Diseño. En 2009 inicia la construcción de la Unidad de Innovación, Aprendizaje y Competitividad (UIAC).\"\n",
    "tokens = nltk.word_tokenize(oracion)\n",
    "tagged = nltk.pos_tag(tokens)"
   ]
  },
  {
   "cell_type": "code",
   "execution_count": 17,
   "id": "aa391960-f6f5-41e0-899d-6a5d48449734",
   "metadata": {},
   "outputs": [
    {
     "data": {
      "text/plain": [
       "[('En', 'JJ'),\n",
       " ('1978', 'CD'),\n",
       " ('se', 'NN'),\n",
       " ('funda', 'NN'),\n",
       " ('la', 'NN'),\n",
       " ('Universidad', 'NNP'),\n",
       " ('Iberoamericana', 'NNP'),\n",
       " ('Unidad', 'NNP'),\n",
       " ('León', 'NNP'),\n",
       " ('(', '('),\n",
       " ('que', 'JJ'),\n",
       " ('más', 'NN'),\n",
       " ('tarde', 'NN'),\n",
       " ('pasaría', 'VBZ'),\n",
       " ('a', 'DT'),\n",
       " ('llamarse', 'JJ'),\n",
       " ('Plantel', 'NNP'),\n",
       " ('León', 'NNP'),\n",
       " (')', ')'),\n",
       " ('para', 'NN'),\n",
       " ('extender', 'NN'),\n",
       " ('los', 'NN'),\n",
       " ('servicios', 'JJ'),\n",
       " ('educativos', 'NN'),\n",
       " ('de', 'IN'),\n",
       " ('la', 'FW'),\n",
       " ('UIA', 'NNP'),\n",
       " ('al', 'FW'),\n",
       " ('estado', 'FW'),\n",
       " ('de', 'FW'),\n",
       " ('Guanajuato', 'NNP'),\n",
       " ('y', 'CC'),\n",
       " ('la', 'JJ'),\n",
       " ('región', 'NN'),\n",
       " ('del', 'NN'),\n",
       " ('Bajío', 'NNP'),\n",
       " ('.', '.'),\n",
       " ('En', 'NNP'),\n",
       " ('el', 'JJ'),\n",
       " ('año', 'NN'),\n",
       " ('de', 'IN'),\n",
       " ('1980', 'CD'),\n",
       " ('se', 'NN'),\n",
       " ('logró', 'NN'),\n",
       " ('la', 'NN'),\n",
       " ('obtención', 'FW'),\n",
       " ('por', 'NN'),\n",
       " ('donativo', 'NN'),\n",
       " ('del', 'FW'),\n",
       " ('terreno', 'NN'),\n",
       " ('de', 'IN'),\n",
       " ('10', 'CD'),\n",
       " ('hectáreas', 'NNS'),\n",
       " ('donde', 'JJ'),\n",
       " ('se', 'NN'),\n",
       " ('ubica', 'JJ'),\n",
       " ('actualmente', 'NN'),\n",
       " ('el', 'NN'),\n",
       " ('campus', 'NN'),\n",
       " ('.', '.'),\n",
       " ('En', 'JJ'),\n",
       " ('1983', 'CD'),\n",
       " ('se', 'NN'),\n",
       " ('inicia', 'NN'),\n",
       " ('la', 'FW'),\n",
       " ('construcción', 'FW'),\n",
       " ('de', 'FW'),\n",
       " ('la', 'FW'),\n",
       " ('sede', 'FW'),\n",
       " ('actual', 'JJ'),\n",
       " ('de', 'FW'),\n",
       " ('la', 'FW'),\n",
       " ('Universidad', 'NNP'),\n",
       " ('Iberoamericana', 'NNP'),\n",
       " ('León', 'NNP'),\n",
       " ('.', '.'),\n",
       " ('Siendo', 'NNP'),\n",
       " ('su', 'JJ'),\n",
       " ('primer', 'NN'),\n",
       " ('Director', 'NNP'),\n",
       " ('el', 'VBD'),\n",
       " ('Físico', 'NNP'),\n",
       " ('Alfonso', 'NNP'),\n",
       " ('Carlos', 'NNP'),\n",
       " ('González', 'NNP'),\n",
       " ('Quevedo', 'NNP'),\n",
       " ('Bruzón', 'NNP'),\n",
       " (',', ','),\n",
       " ('arrancando', 'NN'),\n",
       " ('el', 'NN'),\n",
       " ('proceso', 'NN'),\n",
       " ('de', 'IN'),\n",
       " ('consolidación', 'FW'),\n",
       " ('del', 'FW'),\n",
       " ('Sistema', 'NNP'),\n",
       " ('Educativo', 'NNP'),\n",
       " ('Universidad', 'NNP'),\n",
       " ('Iberoamericana', 'NNP'),\n",
       " (',', ','),\n",
       " ('las', 'VBZ'),\n",
       " ('Unidades', 'NNP'),\n",
       " ('pasan', 'FW'),\n",
       " ('a', 'DT'),\n",
       " ('llamarse', 'NN'),\n",
       " ('Planteles', 'NNP'),\n",
       " ('.', '.'),\n",
       " ('En', 'NNP'),\n",
       " ('1985', 'CD'),\n",
       " ('se', 'NN'),\n",
       " ('hace', 'NN'),\n",
       " ('el', 'NN'),\n",
       " ('nombramiento', 'IN'),\n",
       " ('del', 'FW'),\n",
       " ('primer', 'JJ'),\n",
       " ('rector', 'NN'),\n",
       " ('de', 'IN'),\n",
       " ('la', 'FW'),\n",
       " ('Ibero', 'NNP'),\n",
       " ('León', 'NNP'),\n",
       " (',', ','),\n",
       " ('el', 'VBZ'),\n",
       " ('Lic', 'NNP'),\n",
       " ('.', '.'),\n",
       " ('Jorge', 'NNP'),\n",
       " ('Vértiz', 'NNP'),\n",
       " ('Campero', 'NNP'),\n",
       " (',', ','),\n",
       " ('S.J', 'NNP'),\n",
       " ('.', '.'),\n",
       " ('Ese', 'NNP'),\n",
       " ('mismo', 'VBD'),\n",
       " ('año', 'JJ'),\n",
       " ('se', 'JJ'),\n",
       " ('realiza', 'NN'),\n",
       " ('la', 'NN'),\n",
       " ('inauguración', 'FW'),\n",
       " ('de', 'FW'),\n",
       " ('la', 'FW'),\n",
       " ('sede', 'FW'),\n",
       " ('definitiva', 'FW'),\n",
       " ('de', 'FW'),\n",
       " ('la', 'FW'),\n",
       " ('Ibero', 'NNP'),\n",
       " ('León', 'NNP'),\n",
       " ('.', '.'),\n",
       " ('En', 'NNP'),\n",
       " ('1987', 'CD'),\n",
       " ('se', 'NN'),\n",
       " ('terminó', 'NN'),\n",
       " ('la', 'NN'),\n",
       " ('construcción', 'NN'),\n",
       " ('del', 'FW'),\n",
       " ('primer', 'NN'),\n",
       " ('edificio', 'FW'),\n",
       " ('del', 'NN'),\n",
       " ('campus', 'NN'),\n",
       " ('actual', 'JJ'),\n",
       " ('.', '.'),\n",
       " ('Además', 'NNP'),\n",
       " (',', ','),\n",
       " ('ese', 'JJ'),\n",
       " ('mismo', 'FW'),\n",
       " ('año', 'NN'),\n",
       " ('la', 'NN'),\n",
       " ('Ibero', 'NNP'),\n",
       " ('se', 'NN'),\n",
       " ('convierte', 'NN'),\n",
       " ('en', 'FW'),\n",
       " ('sede', 'NN'),\n",
       " ('del', 'NN'),\n",
       " ('Comité', 'NNP'),\n",
       " ('Local', 'NNP'),\n",
       " ('León', 'NNP'),\n",
       " ('de', 'IN'),\n",
       " ('AIESEC', 'NNP'),\n",
       " ('.', '.'),\n",
       " ('En', 'NNP'),\n",
       " ('1993', 'CD'),\n",
       " ('se', 'NN'),\n",
       " ('realizó', 'NN'),\n",
       " ('la', 'FW'),\n",
       " ('inauguración', 'FW'),\n",
       " ('de', 'FW'),\n",
       " ('los', 'FW'),\n",
       " ('edificios', 'FW'),\n",
       " ('de', 'FW'),\n",
       " ('Aula', 'NNP'),\n",
       " ('Magna', 'NNP'),\n",
       " ('San', 'NNP'),\n",
       " ('Ignacio', 'NNP'),\n",
       " ('y', 'FW'),\n",
       " ('Centro', 'NNP'),\n",
       " ('de', 'FW'),\n",
       " ('Información', 'NNP'),\n",
       " ('Académica', 'NNP'),\n",
       " ('Jorge', 'NNP'),\n",
       " ('Vértiz', 'NNP'),\n",
       " ('Campero', 'NNP'),\n",
       " (',', ','),\n",
       " ('S.J', 'NNP'),\n",
       " ('.', '.'),\n",
       " ('En', 'NNP'),\n",
       " ('2002', 'CD'),\n",
       " (',', ','),\n",
       " ('se', 'FW'),\n",
       " ('inicia', 'JJ'),\n",
       " ('la', 'NN'),\n",
       " ('construcción', 'NN'),\n",
       " ('del', 'FW'),\n",
       " ('Edificio', 'NNP'),\n",
       " ('de', 'FW'),\n",
       " ('Talleres', 'NNP'),\n",
       " ('de', 'FW'),\n",
       " ('Arte', 'NNP'),\n",
       " ('y', 'CC'),\n",
       " ('Diseño', 'NNP'),\n",
       " ('.', '.'),\n",
       " ('En', 'NNP'),\n",
       " ('2009', 'CD'),\n",
       " ('inicia', 'NN'),\n",
       " ('la', 'FW'),\n",
       " ('construcción', 'FW'),\n",
       " ('de', 'FW'),\n",
       " ('la', 'FW'),\n",
       " ('Unidad', 'NNP'),\n",
       " ('de', 'FW'),\n",
       " ('Innovación', 'NNP'),\n",
       " (',', ','),\n",
       " ('Aprendizaje', 'NNP'),\n",
       " ('y', 'NNP'),\n",
       " ('Competitividad', 'NNP'),\n",
       " ('(', '('),\n",
       " ('UIAC', 'NNP'),\n",
       " (')', ')'),\n",
       " ('.', '.')]"
      ]
     },
     "execution_count": 17,
     "metadata": {},
     "output_type": "execute_result"
    }
   ],
   "source": [
    "tagged"
   ]
  }
 ],
 "metadata": {
  "kernelspec": {
   "display_name": "Python 3 (ipykernel)",
   "language": "python",
   "name": "python3"
  },
  "language_info": {
   "codemirror_mode": {
    "name": "ipython",
    "version": 3
   },
   "file_extension": ".py",
   "mimetype": "text/x-python",
   "name": "python",
   "nbconvert_exporter": "python",
   "pygments_lexer": "ipython3",
   "version": "3.12.5"
  }
 },
 "nbformat": 4,
 "nbformat_minor": 5
}
