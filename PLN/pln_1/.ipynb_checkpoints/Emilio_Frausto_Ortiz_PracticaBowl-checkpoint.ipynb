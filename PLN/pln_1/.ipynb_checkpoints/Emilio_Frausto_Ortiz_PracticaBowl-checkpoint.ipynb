{
 "cells": [
  {
   "cell_type": "markdown",
   "id": "5935ea54-cbe6-49d3-a647-fb09b01402cc",
   "metadata": {},
   "source": [
    "EMILIO FRAUSTO ORTIZ"
   ]
  },
  {
   "cell_type": "code",
   "execution_count": 1,
   "id": "0c02b120-daf7-4034-bacd-586fa6051ca2",
   "metadata": {},
   "outputs": [],
   "source": [
    "def get_texts_from_file(path_data, path_labels):\n",
    "    tr_txt = []  #aqui van los tuits \n",
    "    tr_y   = []  #aqui van las etiquetas\n",
    "\n",
    "    with open(path_data, \"r\", encoding = \"utf-8\") as f_data:\n",
    "        for twitt in f_data:\n",
    "            tr_txt += [twitt]\n",
    "\n",
    "    with open(path_labels, \"r\", encoding = \"utf-8\") as f_labels:\n",
    "\n",
    "        \n",
    "        for label in f_labels:\n",
    "            tr_y   += [label]\n",
    "\n",
    "    return tr_txt , tr_y"
   ]
  },
  {
   "cell_type": "code",
   "execution_count": 2,
   "id": "baa15554-8423-4f99-aa7f-8687a1dda22b",
   "metadata": {},
   "outputs": [
    {
     "name": "stdout",
     "output_type": "stream",
     "text": [
      "5278\n"
     ]
    }
   ],
   "source": [
    "tr_txt, tr_y = get_texts_from_file(\"mex20_train.txt\",\"mex20_train_labels.txt\")\n",
    "\n",
    "print(len(tr_txt))\n"
   ]
  },
  {
   "cell_type": "code",
   "execution_count": 3,
   "id": "bb1fe6fd-c08a-4836-b8b3-83dfebf20356",
   "metadata": {},
   "outputs": [
    {
     "data": {
      "text/plain": [
       "5278"
      ]
     },
     "execution_count": 3,
     "metadata": {},
     "output_type": "execute_result"
    }
   ],
   "source": [
    "len(tr_y)"
   ]
  },
  {
   "cell_type": "code",
   "execution_count": 4,
   "id": "6cb01a01-f027-4554-8f82-06caa8fdb819",
   "metadata": {},
   "outputs": [
    {
     "data": {
      "image/png": "[encoded data removed]",
      "text/plain": [
       "<Figure size 640x480 with 1 Axes>"
      ]
     },
     "metadata": {},
     "output_type": "display_data"
    }
   ],
   "source": [
    "import matplotlib.pyplot as plt\n",
    "labels = [int(x.strip()) for x in tr_y]\n",
    "\n",
    "zeros = labels.count(0)\n",
    "ones = labels.count(1)\n",
    "\n",
    "plt.pie([zeros,ones],labels=[\"0\",\"1\"],startangle=90)\n",
    "plt.show()"
   ]
  },
  {
   "cell_type": "code",
   "execution_count": 5,
   "id": "c490154f-8c1a-4f82-b3f3-ecdf2e02ef80",
   "metadata": {},
   "outputs": [
    {
     "data": {
      "text/plain": [
       "['🤣🤣🤣',\n",
       " 'mi',\n",
       " 'vida,',\n",
       " 'eres',\n",
       " 'la',\n",
       " 'mejor!',\n",
       " 'Dí',\n",
       " 'lo',\n",
       " 'q',\n",
       " 'digas',\n",
       " 'y',\n",
       " 'a',\n",
       " 'la',\n",
       " 'verga',\n",
       " 'los',\n",
       " 'haters',\n",
       " 'heteropatriarcanormados!',\n",
       " 'Block',\n",
       " 'y',\n",
       " 'be',\n",
       " 'happy!',\n",
       " '😘']"
      ]
     },
     "execution_count": 5,
     "metadata": {},
     "output_type": "execute_result"
    }
   ],
   "source": [
    "tr_txt[61].split()"
   ]
  },
  {
   "cell_type": "code",
   "execution_count": 6,
   "id": "5d77ace5-adaf-41ee-8dd9-4fb27402aed9",
   "metadata": {},
   "outputs": [
    {
     "data": {
      "text/plain": [
       "['🤣🤣🤣',\n",
       " 'mi',\n",
       " 'vida',\n",
       " ',',\n",
       " 'eres',\n",
       " 'la',\n",
       " 'mejor',\n",
       " '!',\n",
       " 'Dí',\n",
       " 'lo',\n",
       " 'q',\n",
       " 'digas',\n",
       " 'y',\n",
       " 'a',\n",
       " 'la',\n",
       " 'verga',\n",
       " 'los',\n",
       " 'haters',\n",
       " 'heteropatriarcanormados',\n",
       " '!',\n",
       " 'Block',\n",
       " 'y',\n",
       " 'be',\n",
       " 'happy',\n",
       " '!',\n",
       " '😘']"
      ]
     },
     "execution_count": 6,
     "metadata": {},
     "output_type": "execute_result"
    }
   ],
   "source": [
    "import nltk\n",
    "\n",
    "nltk.word_tokenize(tr_txt[61])"
   ]
  },
  {
   "cell_type": "code",
   "execution_count": 7,
   "id": "8acd8d98-42b1-4384-8694-5af692163e3e",
   "metadata": {},
   "outputs": [],
   "source": [
    "from nltk.tokenize import TweetTokenizer\n",
    "tokenizer = TweetTokenizer()"
   ]
  },
  {
   "cell_type": "code",
   "execution_count": 8,
   "id": "28be39a5-1ce2-4dc0-a8c5-6cb1486daf74",
   "metadata": {},
   "outputs": [
    {
     "data": {
      "text/plain": [
       "['🤣',\n",
       " '🤣',\n",
       " '🤣',\n",
       " 'mi',\n",
       " 'vida',\n",
       " ',',\n",
       " 'eres',\n",
       " 'la',\n",
       " 'mejor',\n",
       " '!',\n",
       " 'Dí',\n",
       " 'lo',\n",
       " 'q',\n",
       " 'digas',\n",
       " 'y',\n",
       " 'a',\n",
       " 'la',\n",
       " 'verga',\n",
       " 'los',\n",
       " 'haters',\n",
       " 'heteropatriarcanormados',\n",
       " '!',\n",
       " 'Block',\n",
       " 'y',\n",
       " 'be',\n",
       " 'happy',\n",
       " '!',\n",
       " '😘']"
      ]
     },
     "execution_count": 8,
     "metadata": {},
     "output_type": "execute_result"
    }
   ],
   "source": [
    "tokenizer.tokenize(tr_txt[61])"
   ]
  },
  {
   "cell_type": "code",
   "execution_count": 9,
   "id": "cf5bbd78-3d35-4821-a1db-687cd8c870a2",
   "metadata": {},
   "outputs": [
    {
     "data": {
      "text/plain": [
       "['¡', 'Apúntale', 'cabrón', '!', '📄', '🖋', '️']"
      ]
     },
     "execution_count": 9,
     "metadata": {},
     "output_type": "execute_result"
    }
   ],
   "source": [
    "tokenizer.tokenize(tr_txt[50])"
   ]
  },
  {
   "cell_type": "code",
   "execution_count": 10,
   "id": "b60a3974-a678-4884-b735-ca0e766fabe7",
   "metadata": {},
   "outputs": [],
   "source": [
    "import nltk\n",
    "\n",
    "word_world = []\n",
    "\n",
    "for twuit in tr_txt:\n",
    "    word_world += tokenizer.tokenize(twuit)"
   ]
  },
  {
   "cell_type": "code",
   "execution_count": 11,
   "id": "1dec2ad8-5292-4702-a5e8-ff1a25c08d78",
   "metadata": {},
   "outputs": [
    {
     "data": {
      "text/plain": [
       "97473"
      ]
     },
     "execution_count": 11,
     "metadata": {},
     "output_type": "execute_result"
    }
   ],
   "source": [
    "len(word_world)"
   ]
  },
  {
   "cell_type": "code",
   "execution_count": 18,
   "id": "104e6a5c-a2c3-4f4c-8764-58381a6aa55b",
   "metadata": {},
   "outputs": [],
   "source": [
    "vocabulary = (set(word_world))"
   ]
  },
  {
   "cell_type": "code",
   "execution_count": 13,
   "id": "3482f8f6-373f-4561-82b3-646e4932753b",
   "metadata": {},
   "outputs": [],
   "source": [
    "f_dic = nltk.FreqDist(word_world)"
   ]
  },
  {
   "cell_type": "code",
   "execution_count": 14,
   "id": "b1eafcec-1c59-428d-91d6-7243c46eb2d5",
   "metadata": {},
   "outputs": [
    {
     "data": {
      "text/plain": [
       "FreqDist({',': 3016, 'de': 2915, 'que': 2829, '.': 2604, 'la': 2031, 'a': 1956, 'y': 1856, '!': 1435, 'no': 1430, '@USUARIO': 1399, ...})"
      ]
     },
     "execution_count": 14,
     "metadata": {},
     "output_type": "execute_result"
    }
   ],
   "source": [
    "f_dic"
   ]
  },
  {
   "cell_type": "code",
   "execution_count": 15,
   "id": "e25ea08c-afa1-45de-b2a8-8596640aeb09",
   "metadata": {},
   "outputs": [
    {
     "data": {
      "text/plain": [
       "15194"
      ]
     },
     "execution_count": 15,
     "metadata": {},
     "output_type": "execute_result"
    }
   ],
   "source": [
    "len(f_dic)"
   ]
  },
  {
   "cell_type": "code",
   "execution_count": 52,
   "id": "c086bd4c-ed00-4c5e-8359-4aa6397ec204",
   "metadata": {},
   "outputs": [],
   "source": [
    "def sortFreqDist(freqdist):\n",
    "    aux = [(freqdist[key], key) for key in freqdist]\n",
    "    aux.sort()\n",
    "    aux.reverse()\n",
    "    return aux"
   ]
  },
  {
   "cell_type": "code",
   "execution_count": 54,
   "id": "266b2af7-ac85-4c54-a2ee-44b27fab13e0",
   "metadata": {},
   "outputs": [],
   "source": [
    "V = sortFreqDist(f_dic)"
   ]
  },
  {
   "cell_type": "code",
   "execution_count": 56,
   "id": "16c40fe6-d051-4974-8355-07b9f9f46cf1",
   "metadata": {},
   "outputs": [],
   "source": [
    "v = V[:5000]"
   ]
  },
  {
   "cell_type": "code",
   "execution_count": 71,
   "id": "d7f16420-55d9-4c41-b4cb-a0c76cc089fa",
   "metadata": {},
   "outputs": [],
   "source": [
    "#Asegurar un orden en el diccionario\n",
    "dict_indices = dict()\n",
    "\n",
    "cont = 0\n",
    "for weight, word in V:\n",
    "    dict_indices[word] = cont\n",
    "    cont += 1"
   ]
  },
  {
   "cell_type": "code",
   "execution_count": 78,
   "id": "0f39cd9d-dc0c-41cd-9710-4974f605ab09",
   "metadata": {},
   "outputs": [],
   "source": [
    "import numpy as np\n",
    "\n",
    "def build_bowl_tr(tr_txt, vocabulary, dict_indices):\n",
    "    # El objetivo es construir la matriz BOW\n",
    "    bowl = np.zeros((len(tr_txt), len(vocabulary)), dtype=int) #Matriz de BOWL\n",
    "\n",
    "    # RELLENAR LA MATRIZ BOWL, cada renglon es un tuit y cada columna una palabra\n",
    "    #Si la palabra aparece en el tuit, poner un uno\n",
    "    count_doc = 0\n",
    "    for tuit in tr_txt:\n",
    "        fdist_doc = nltk.FreqDist(tokenizer.tokenize(tuit.lower())) #Tuit tokenizado\n",
    "        for word in fdist_doc:\n",
    "            if word in dict_indices:\n",
    "                bowl[count_doc, dict_indices[word]] = 1 #rellenar\n",
    "        count_doc += 1\n",
    "    \n",
    "    return bowl"
   ]
  },
  {
   "cell_type": "code",
   "execution_count": 79,
   "id": "185c1530-3b56-4a49-a71f-ff53c6eab8f1",
   "metadata": {},
   "outputs": [
    {
     "name": "stdout",
     "output_type": "stream",
     "text": [
      "(5278, 97473)\n"
     ]
    }
   ],
   "source": [
    "bowl = build_bowl_tr(tr_txt, word_world, dict_indices)\n",
    "print(bowl.shape)"
   ]
  },
  {
   "cell_type": "code",
   "execution_count": 80,
   "id": "680d9d04-6f46-4096-abe6-678401d16c58",
   "metadata": {},
   "outputs": [
    {
     "data": {
      "text/plain": [
       "array([[0, 1, 0, ..., 0, 0, 0],\n",
       "       [0, 0, 0, ..., 0, 0, 0],\n",
       "       [0, 1, 0, ..., 0, 0, 0],\n",
       "       ...,\n",
       "       [0, 1, 0, ..., 0, 0, 0],\n",
       "       [1, 0, 0, ..., 0, 0, 0],\n",
       "       [1, 1, 0, ..., 0, 0, 0]])"
      ]
     },
     "execution_count": 80,
     "metadata": {},
     "output_type": "execute_result"
    }
   ],
   "source": [
    "bowl"
   ]
  },
  {
   "cell_type": "code",
   "execution_count": 81,
   "id": "74555891-aa51-4f03-bf04-549bae3f8648",
   "metadata": {},
   "outputs": [
    {
     "data": {
      "text/plain": [
       "'@USUARIO @USUARIO @USUARIO Q se puede esperar del maricon de closet de la Yañez aun recuerdo esa ves q lo vi en zona rosa viendo quien lo levantada\\n'"
      ]
     },
     "execution_count": 81,
     "metadata": {},
     "output_type": "execute_result"
    }
   ],
   "source": []
  }
 ],
 "metadata": {
  "kernelspec": {
   "display_name": "Python 3 (ipykernel)",
   "language": "python",
   "name": "python3"
  },
  "language_info": {
   "codemirror_mode": {
    "name": "ipython",
    "version": 3
   },
   "file_extension": ".py",
   "mimetype": "text/x-python",
   "name": "python",
   "nbconvert_exporter": "python",
   "pygments_lexer": "ipython3",
   "version": "3.12.5"
  }
 },
 "nbformat": 4,
 "nbformat_minor": 5
}
