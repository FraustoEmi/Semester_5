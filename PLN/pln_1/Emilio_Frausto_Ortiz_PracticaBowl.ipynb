{
 "cells": [
  {
   "cell_type": "markdown",
   "id": "5935ea54-cbe6-49d3-a647-fb09b01402cc",
   "metadata": {},
   "source": [
    "EMILIO FRAUSTO ORTIZ"
   ]
  },
  {
   "cell_type": "code",
   "execution_count": 1,
   "id": "0c02b120-daf7-4034-bacd-586fa6051ca2",
   "metadata": {},
   "outputs": [],
   "source": [
    "def get_texts_from_file(path_data, path_labels):\n",
    "    tr_txt = []  #aqui van los tuits \n",
    "    tr_y   = []  #aqui van las etiquetas\n",
    "\n",
    "    with open(path_data, \"r\", encoding = \"utf-8\") as f_data:\n",
    "        for twitt in f_data:\n",
    "            tr_txt += [twitt]\n",
    "\n",
    "    with open(path_labels, \"r\", encoding = \"utf-8\") as f_labels:\n",
    "\n",
    "        \n",
    "        for label in f_labels:\n",
    "            tr_y   += [label]\n",
    "\n",
    "    return tr_txt , tr_y"
   ]
  },
  {
   "cell_type": "code",
   "execution_count": 2,
   "id": "baa15554-8423-4f99-aa7f-8687a1dda22b",
   "metadata": {},
   "outputs": [
    {
     "name": "stdout",
     "output_type": "stream",
     "text": [
      "5278\n"
     ]
    }
   ],
   "source": [
    "tr_txt, tr_y = get_texts_from_file(\"mex20_train.txt\",\"mex20_train_labels.txt\")\n",
    "\n",
    "print(len(tr_txt))\n"
   ]
  },
  {
   "cell_type": "code",
   "execution_count": 3,
   "id": "bb1fe6fd-c08a-4836-b8b3-83dfebf20356",
   "metadata": {},
   "outputs": [
    {
     "data": {
      "text/plain": [
       "5278"
      ]
     },
     "execution_count": 3,
     "metadata": {},
     "output_type": "execute_result"
    }
   ],
   "source": [
    "len(tr_y)"
   ]
  },
  {
   "cell_type": "code",
   "execution_count": 4,
   "id": "6cb01a01-f027-4554-8f82-06caa8fdb819",
   "metadata": {},
   "outputs": [
    {
     "data": {
      "image/png": "[encoded data removed]",
      "text/plain": [
       "<Figure size 640x480 with 1 Axes>"
      ]
     },
     "metadata": {},
     "output_type": "display_data"
    }
   ],
   "source": [
    "import matplotlib.pyplot as plt\n",
    "labels = [int(x.strip()) for x in tr_y]\n",
    "\n",
    "zeros = labels.count(0)\n",
    "ones = labels.count(1)\n",
    "\n",
    "plt.pie([zeros,ones],labels=[\"0\",\"1\"],startangle=90)\n",
    "plt.show()"
   ]
  },
  {
   "cell_type": "code",
   "execution_count": 5,
   "id": "c490154f-8c1a-4f82-b3f3-ecdf2e02ef80",
   "metadata": {},
   "outputs": [
    {
     "data": {
      "text/plain": [
       "['🤣🤣🤣',\n",
       " 'mi',\n",
       " 'vida,',\n",
       " 'eres',\n",
       " 'la',\n",
       " 'mejor!',\n",
       " 'Dí',\n",
       " 'lo',\n",
       " 'q',\n",
       " 'digas',\n",
       " 'y',\n",
       " 'a',\n",
       " 'la',\n",
       " 'verga',\n",
       " 'los',\n",
       " 'haters',\n",
       " 'heteropatriarcanormados!',\n",
       " 'Block',\n",
       " 'y',\n",
       " 'be',\n",
       " 'happy!',\n",
       " '😘']"
      ]
     },
     "execution_count": 5,
     "metadata": {},
     "output_type": "execute_result"
    }
   ],
   "source": [
    "tr_txt[61].split()"
   ]
  },
  {
   "cell_type": "code",
   "execution_count": 6,
   "id": "5d77ace5-adaf-41ee-8dd9-4fb27402aed9",
   "metadata": {},
   "outputs": [
    {
     "data": {
      "text/plain": [
       "['🤣🤣🤣',\n",
       " 'mi',\n",
       " 'vida',\n",
       " ',',\n",
       " 'eres',\n",
       " 'la',\n",
       " 'mejor',\n",
       " '!',\n",
       " 'Dí',\n",
       " 'lo',\n",
       " 'q',\n",
       " 'digas',\n",
       " 'y',\n",
       " 'a',\n",
       " 'la',\n",
       " 'verga',\n",
       " 'los',\n",
       " 'haters',\n",
       " 'heteropatriarcanormados',\n",
       " '!',\n",
       " 'Block',\n",
       " 'y',\n",
       " 'be',\n",
       " 'happy',\n",
       " '!',\n",
       " '😘']"
      ]
     },
     "execution_count": 6,
     "metadata": {},
     "output_type": "execute_result"
    }
   ],
   "source": [
    "import nltk\n",
    "\n",
    "nltk.word_tokenize(tr_txt[61])"
   ]
  },
  {
   "cell_type": "code",
   "execution_count": 7,
   "id": "8acd8d98-42b1-4384-8694-5af692163e3e",
   "metadata": {},
   "outputs": [],
   "source": [
    "from nltk.tokenize import TweetTokenizer\n",
    "tokenizer = TweetTokenizer()"
   ]
  },
  {
   "cell_type": "code",
   "execution_count": 8,
   "id": "28be39a5-1ce2-4dc0-a8c5-6cb1486daf74",
   "metadata": {},
   "outputs": [
    {
     "data": {
      "text/plain": [
       "['🤣',\n",
       " '🤣',\n",
       " '🤣',\n",
       " 'mi',\n",
       " 'vida',\n",
       " ',',\n",
       " 'eres',\n",
       " 'la',\n",
       " 'mejor',\n",
       " '!',\n",
       " 'Dí',\n",
       " 'lo',\n",
       " 'q',\n",
       " 'digas',\n",
       " 'y',\n",
       " 'a',\n",
       " 'la',\n",
       " 'verga',\n",
       " 'los',\n",
       " 'haters',\n",
       " 'heteropatriarcanormados',\n",
       " '!',\n",
       " 'Block',\n",
       " 'y',\n",
       " 'be',\n",
       " 'happy',\n",
       " '!',\n",
       " '😘']"
      ]
     },
     "execution_count": 8,
     "metadata": {},
     "output_type": "execute_result"
    }
   ],
   "source": [
    "tokenizer.tokenize(tr_txt[61])"
   ]
  },
  {
   "cell_type": "code",
   "execution_count": 9,
   "id": "cf5bbd78-3d35-4821-a1db-687cd8c870a2",
   "metadata": {},
   "outputs": [
    {
     "data": {
      "text/plain": [
       "['¡', 'Apúntale', 'cabrón', '!', '📄', '🖋', '️']"
      ]
     },
     "execution_count": 9,
     "metadata": {},
     "output_type": "execute_result"
    }
   ],
   "source": [
    "tokenizer.tokenize(tr_txt[50])"
   ]
  },
  {
   "cell_type": "code",
   "execution_count": 10,
   "id": "b60a3974-a678-4884-b735-ca0e766fabe7",
   "metadata": {},
   "outputs": [],
   "source": [
    "import nltk\n",
    "\n",
    "word_world = []\n",
    "\n",
    "for twuit in tr_txt:\n",
    "    word_world += tokenizer.tokenize(twuit)"
   ]
  },
  {
   "cell_type": "code",
   "execution_count": 11,
   "id": "1dec2ad8-5292-4702-a5e8-ff1a25c08d78",
   "metadata": {},
   "outputs": [
    {
     "data": {
      "text/plain": [
       "97473"
      ]
     },
     "execution_count": 11,
     "metadata": {},
     "output_type": "execute_result"
    }
   ],
   "source": [
    "len(word_world)"
   ]
  },
  {
   "cell_type": "code",
   "execution_count": 12,
   "id": "104e6a5c-a2c3-4f4c-8764-58381a6aa55b",
   "metadata": {},
   "outputs": [],
   "source": [
    "vocabulary = (set(word_world))"
   ]
  },
  {
   "cell_type": "code",
   "execution_count": 13,
   "id": "3482f8f6-373f-4561-82b3-646e4932753b",
   "metadata": {},
   "outputs": [],
   "source": [
    "f_dic = nltk.FreqDist(word_world)"
   ]
  },
  {
   "cell_type": "code",
   "execution_count": 14,
   "id": "b1eafcec-1c59-428d-91d6-7243c46eb2d5",
   "metadata": {},
   "outputs": [
    {
     "data": {
      "text/plain": [
       "FreqDist({',': 3016, 'de': 2915, 'que': 2829, '.': 2604, 'la': 2031, 'a': 1956, 'y': 1856, '!': 1435, 'no': 1430, '@USUARIO': 1399, ...})"
      ]
     },
     "execution_count": 14,
     "metadata": {},
     "output_type": "execute_result"
    }
   ],
   "source": [
    "f_dic"
   ]
  },
  {
   "cell_type": "code",
   "execution_count": 15,
   "id": "e25ea08c-afa1-45de-b2a8-8596640aeb09",
   "metadata": {},
   "outputs": [
    {
     "data": {
      "text/plain": [
       "15194"
      ]
     },
     "execution_count": 15,
     "metadata": {},
     "output_type": "execute_result"
    }
   ],
   "source": [
    "len(f_dic)"
   ]
  },
  {
   "cell_type": "code",
   "execution_count": 16,
   "id": "c086bd4c-ed00-4c5e-8359-4aa6397ec204",
   "metadata": {},
   "outputs": [],
   "source": [
    "def sortFreqDist(freqdist):\n",
    "    aux = [(freqdist[key], key) for key in freqdist]\n",
    "    aux.sort()\n",
    "    aux.reverse()\n",
    "    return aux"
   ]
  },
  {
   "cell_type": "code",
   "execution_count": 17,
   "id": "266b2af7-ac85-4c54-a2ee-44b27fab13e0",
   "metadata": {},
   "outputs": [],
   "source": [
    "V = sortFreqDist(f_dic)"
   ]
  },
  {
   "cell_type": "code",
   "execution_count": 18,
   "id": "16c40fe6-d051-4974-8355-07b9f9f46cf1",
   "metadata": {},
   "outputs": [],
   "source": [
    "v = V[:5000]"
   ]
  },
  {
   "cell_type": "code",
   "execution_count": 19,
   "id": "d7f16420-55d9-4c41-b4cb-a0c76cc089fa",
   "metadata": {},
   "outputs": [],
   "source": [
    "#Asegurar un orden en el diccionario\n",
    "dict_indices = dict()\n",
    "\n",
    "cont = 0\n",
    "for weight, word in V:\n",
    "    dict_indices[word] = cont\n",
    "    cont += 1"
   ]
  },
  {
   "cell_type": "code",
   "execution_count": 20,
   "id": "0f39cd9d-dc0c-41cd-9710-4974f605ab09",
   "metadata": {},
   "outputs": [],
   "source": [
    "import numpy as np\n",
    "\n",
    "def build_bowl_tr(tr_txt, vocabulary, dict_indices):\n",
    "    # El objetivo es construir la matriz BOW\n",
    "    bowl = np.zeros((len(tr_txt), len(vocabulary)), dtype=int) #Matriz de BOWL\n",
    "\n",
    "    # RELLENAR LA MATRIZ BOWL, cada renglon es un tuit y cada columna una palabra\n",
    "    #Si la palabra aparece en el tuit, poner un uno\n",
    "    count_doc = 0\n",
    "    for tuit in tr_txt:\n",
    "        fdist_doc = nltk.FreqDist(tokenizer.tokenize(tuit.lower())) #Tuit tokenizado\n",
    "        for word in fdist_doc:\n",
    "            if word in dict_indices:\n",
    "                bowl[count_doc, dict_indices[word]] = 1 #rellenar\n",
    "        count_doc += 1\n",
    "    \n",
    "    return bowl"
   ]
  },
  {
   "cell_type": "code",
   "execution_count": 21,
   "id": "185c1530-3b56-4a49-a71f-ff53c6eab8f1",
   "metadata": {},
   "outputs": [
    {
     "name": "stdout",
     "output_type": "stream",
     "text": [
      "(5278, 97473)\n"
     ]
    }
   ],
   "source": [
    "bowl = build_bowl_tr(tr_txt, word_world, dict_indices)\n",
    "print(bowl.shape)"
   ]
  },
  {
   "cell_type": "code",
   "execution_count": 22,
   "id": "680d9d04-6f46-4096-abe6-678401d16c58",
   "metadata": {},
   "outputs": [
    {
     "data": {
      "text/plain": [
       "array([[0, 1, 0, ..., 0, 0, 0],\n",
       "       [0, 0, 0, ..., 0, 0, 0],\n",
       "       [0, 1, 0, ..., 0, 0, 0],\n",
       "       ...,\n",
       "       [0, 1, 0, ..., 0, 0, 0],\n",
       "       [1, 0, 0, ..., 0, 0, 0],\n",
       "       [1, 1, 0, ..., 0, 0, 0]])"
      ]
     },
     "execution_count": 22,
     "metadata": {},
     "output_type": "execute_result"
    }
   ],
   "source": [
    "bowl"
   ]
  },
  {
   "cell_type": "code",
   "execution_count": 25,
   "id": "74555891-aa51-4f03-bf04-549bae3f8648",
   "metadata": {},
   "outputs": [
    {
     "name": "stdout",
     "output_type": "stream",
     "text": [
      "Counter({0: 3759, 1: 1519})\n"
     ]
    },
    {
     "data": {
      "text/plain": [
       "Text(0.5, 0, 'Class')"
      ]
     },
     "execution_count": 25,
     "metadata": {},
     "output_type": "execute_result"
    },
    {
     "data": {
      "image/png": "[encoded data removed]",
      "text/plain": [
       "<Figure size 640x480 with 1 Axes>"
      ]
     },
     "metadata": {},
     "output_type": "display_data"
    }
   ],
   "source": [
    "val_txt, val_y = get_texts_from_file(\"mex20_train.txt\",\"mex20_train_labels.txt\")\n",
    "val_y = list(map(int, val_y))\n",
    "\n",
    "from collections import Counter\n",
    "import matplotlib.pyplot as plt\n",
    "\n",
    "print(Counter(val_y))\n",
    "plt.hist(val_y,bins=len(set(val_y)))\n",
    "plt.ylabel('Users')\n",
    "plt.xlabel('Class')"
   ]
  },
  {
   "cell_type": "code",
   "execution_count": 27,
   "id": "bc380634-936b-4f6d-9b61-9799f6a8bad8",
   "metadata": {},
   "outputs": [],
   "source": [
    "BOW_vals = build_bowl_tr(val_txt, word_world, dict_indices)"
   ]
  },
  {
   "cell_type": "code",
   "execution_count": 43,
   "id": "8f80642c-5d8e-432b-86f6-eefd81a919e9",
   "metadata": {},
   "outputs": [
    {
     "name": "stdout",
     "output_type": "stream",
     "text": [
      "[[3675   84]\n",
      " [  13 1506]]\n",
      "              precision    recall  f1-score   support\n",
      "\n",
      "           0       1.00      0.98      0.99      3759\n",
      "           1       0.95      0.99      0.97      1519\n",
      "\n",
      "    accuracy                           0.98      5278\n",
      "   macro avg       0.97      0.98      0.98      5278\n",
      "weighted avg       0.98      0.98      0.98      5278\n",
      "\n"
     ]
    }
   ],
   "source": [
    "tr_y = list(map(int,tr_y))\n",
    "\n",
    "from sklearn import svm\n",
    "from sklearn.model_selection import GridSearchCV\n",
    "from sklearn import metrics\n",
    "from sklearn.metrics import accuracy_score, confusion_matrix, f1_score, precision_recall_fscore_support\n",
    "\n",
    "parameters = {'C': [0.05,0.12,0.25,0.5,1.0,2.0,4.0]}\n",
    "\n",
    "svf = svm.LinearSVC(class_weight='balanced')\n",
    "grid = GridSearchCV(estimator=svf, param_grid=parameters, n_jobs=8, scoring='f1_macro',cv=5)\n",
    "\n",
    "grid.fit(bowl,tr_y)\n",
    "\n",
    "y_pred = grid.predict(BOW_vals)\n",
    "\n",
    "p, r, f, _ = precision_recall_fscore_support(val_y, y_pred, average='macro', pos_label=1)\n",
    "\n",
    "print(confusion_matrix(val_y,y_pred))\n",
    "print(metrics.classification_report(val_y, y_pred))"
   ]
  },
  {
   "cell_type": "code",
   "execution_count": 44,
   "id": "f70974ce-2ee6-4b4a-8b0b-965333a18787",
   "metadata": {},
   "outputs": [],
   "source": [
    "incorrect = []\n",
    "for e in zip(val_y,y_pred,range(len(val_y))): \n",
    "    if e[0] != e[1]:\n",
    "        incorrect.append([e[2]])"
   ]
  },
  {
   "cell_type": "code",
   "execution_count": 53,
   "id": "e9e46fe2-6a0e-4350-baad-331b843015e8",
   "metadata": {},
   "outputs": [
    {
     "name": "stdout",
     "output_type": "stream",
     "text": [
      "730\n"
     ]
    }
   ],
   "source": [
    "print(incorrect[10])"
   ]
  },
  {
   "cell_type": "code",
   "execution_count": 60,
   "id": "2b4ff4cc-6015-498e-ab3e-8f1db53e3b15",
   "metadata": {},
   "outputs": [],
   "source": [
    "for e in incorrect:\n",
    "    case = e\n",
    "    if \"macro\" in val_txt[case]:  # buscar 'macro' dentro del texto\n",
    "        print(\"Text: \", val_txt[case].strip())\n",
    "        print(\"True: \", val_y[case])\n",
    "        print(\"Pred: \", y_pred[case])\n"
   ]
  },
  {
   "cell_type": "markdown",
   "id": "0df4ad45-a9dc-42df-9841-4d7511da8f3c",
   "metadata": {},
   "source": [
    "Está padre la bolsa de palabras, ya casi con esto podemos empezar a ver cómo se transforman las palabras y cómo las procesa la máquina. \n",
    "También, con lo último que hicimos, está padre porque podemos saber exactamente en qué palabras y en qué tuits se equivoca el predictor, \n",
    "lo que nos ayuda a entender mejor sus errores y pensar cómo mejorar el modelo."
   ]
  }
 ],
 "metadata": {
  "kernelspec": {
   "display_name": "Python 3 (ipykernel)",
   "language": "python",
   "name": "python3"
  },
  "language_info": {
   "codemirror_mode": {
    "name": "ipython",
    "version": 3
   },
   "file_extension": ".py",
   "mimetype": "text/x-python",
   "name": "python",
   "nbconvert_exporter": "python",
   "pygments_lexer": "ipython3",
   "version": "3.12.5"
  }
 },
 "nbformat": 4,
 "nbformat_minor": 5
}
